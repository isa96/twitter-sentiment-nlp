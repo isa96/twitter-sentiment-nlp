{
  "cells": [
    {
      "cell_type": "markdown",
      "metadata": {
        "id": "USYGUrTduDQn"
      },
      "source": [
        "# Nama: Felix Pratamasan\n",
        "# Email: felixpratama242@gmail.com"
      ]
    },
    {
      "cell_type": "code",
      "execution_count": 2,
      "metadata": {
        "id": "Vp0tTzuzuLU_"
      },
      "outputs": [],
      "source": [
        "import tensorflow as tf\n",
        "import numpy as np\n",
        "import pandas as pd\n",
        "import matplotlib.pyplot as plt\n",
        "import zipfile\n",
        "import seaborn as sns\n",
        "from google.colab import files\n",
        "from sklearn.model_selection import train_test_split\n",
        "from tensorflow.keras.preprocessing.text import Tokenizer\n",
        "from tensorflow.keras.preprocessing.sequence import pad_sequences\n",
        "from keras.callbacks import EarlyStopping\n",
        "from sklearn.metrics import classification_report"
      ]
    },
    {
      "cell_type": "markdown",
      "metadata": {
        "id": "C3r6m03xv1k_"
      },
      "source": [
        "# Download File from Kaggle"
      ]
    },
    {
      "cell_type": "code",
      "execution_count": 2,
      "metadata": {
        "colab": {
          "base_uri": "https://localhost:8080/",
          "height": 90
        },
        "id": "rwYIY0zDuR_S",
        "outputId": "d9d9a15e-e0f6-400a-f5ae-c1b0b20afb8d"
      },
      "outputs": [
        {
          "data": {
            "text/html": [
              "\n",
              "     <input type=\"file\" id=\"files-2a9e816c-483f-4bf4-832f-abeeec33bae6\" name=\"files[]\" multiple disabled\n",
              "        style=\"border:none\" />\n",
              "     <output id=\"result-2a9e816c-483f-4bf4-832f-abeeec33bae6\">\n",
              "      Upload widget is only available when the cell has been executed in the\n",
              "      current browser session. Please rerun this cell to enable.\n",
              "      </output>\n",
              "      <script>// Copyright 2017 Google LLC\n",
              "//\n",
              "// Licensed under the Apache License, Version 2.0 (the \"License\");\n",
              "// you may not use this file except in compliance with the License.\n",
              "// You may obtain a copy of the License at\n",
              "//\n",
              "//      http://www.apache.org/licenses/LICENSE-2.0\n",
              "//\n",
              "// Unless required by applicable law or agreed to in writing, software\n",
              "// distributed under the License is distributed on an \"AS IS\" BASIS,\n",
              "// WITHOUT WARRANTIES OR CONDITIONS OF ANY KIND, either express or implied.\n",
              "// See the License for the specific language governing permissions and\n",
              "// limitations under the License.\n",
              "\n",
              "/**\n",
              " * @fileoverview Helpers for google.colab Python module.\n",
              " */\n",
              "(function(scope) {\n",
              "function span(text, styleAttributes = {}) {\n",
              "  const element = document.createElement('span');\n",
              "  element.textContent = text;\n",
              "  for (const key of Object.keys(styleAttributes)) {\n",
              "    element.style[key] = styleAttributes[key];\n",
              "  }\n",
              "  return element;\n",
              "}\n",
              "\n",
              "// Max number of bytes which will be uploaded at a time.\n",
              "const MAX_PAYLOAD_SIZE = 100 * 1024;\n",
              "\n",
              "function _uploadFiles(inputId, outputId) {\n",
              "  const steps = uploadFilesStep(inputId, outputId);\n",
              "  const outputElement = document.getElementById(outputId);\n",
              "  // Cache steps on the outputElement to make it available for the next call\n",
              "  // to uploadFilesContinue from Python.\n",
              "  outputElement.steps = steps;\n",
              "\n",
              "  return _uploadFilesContinue(outputId);\n",
              "}\n",
              "\n",
              "// This is roughly an async generator (not supported in the browser yet),\n",
              "// where there are multiple asynchronous steps and the Python side is going\n",
              "// to poll for completion of each step.\n",
              "// This uses a Promise to block the python side on completion of each step,\n",
              "// then passes the result of the previous step as the input to the next step.\n",
              "function _uploadFilesContinue(outputId) {\n",
              "  const outputElement = document.getElementById(outputId);\n",
              "  const steps = outputElement.steps;\n",
              "\n",
              "  const next = steps.next(outputElement.lastPromiseValue);\n",
              "  return Promise.resolve(next.value.promise).then((value) => {\n",
              "    // Cache the last promise value to make it available to the next\n",
              "    // step of the generator.\n",
              "    outputElement.lastPromiseValue = value;\n",
              "    return next.value.response;\n",
              "  });\n",
              "}\n",
              "\n",
              "/**\n",
              " * Generator function which is called between each async step of the upload\n",
              " * process.\n",
              " * @param {string} inputId Element ID of the input file picker element.\n",
              " * @param {string} outputId Element ID of the output display.\n",
              " * @return {!Iterable<!Object>} Iterable of next steps.\n",
              " */\n",
              "function* uploadFilesStep(inputId, outputId) {\n",
              "  const inputElement = document.getElementById(inputId);\n",
              "  inputElement.disabled = false;\n",
              "\n",
              "  const outputElement = document.getElementById(outputId);\n",
              "  outputElement.innerHTML = '';\n",
              "\n",
              "  const pickedPromise = new Promise((resolve) => {\n",
              "    inputElement.addEventListener('change', (e) => {\n",
              "      resolve(e.target.files);\n",
              "    });\n",
              "  });\n",
              "\n",
              "  const cancel = document.createElement('button');\n",
              "  inputElement.parentElement.appendChild(cancel);\n",
              "  cancel.textContent = 'Cancel upload';\n",
              "  const cancelPromise = new Promise((resolve) => {\n",
              "    cancel.onclick = () => {\n",
              "      resolve(null);\n",
              "    };\n",
              "  });\n",
              "\n",
              "  // Wait for the user to pick the files.\n",
              "  const files = yield {\n",
              "    promise: Promise.race([pickedPromise, cancelPromise]),\n",
              "    response: {\n",
              "      action: 'starting',\n",
              "    }\n",
              "  };\n",
              "\n",
              "  cancel.remove();\n",
              "\n",
              "  // Disable the input element since further picks are not allowed.\n",
              "  inputElement.disabled = true;\n",
              "\n",
              "  if (!files) {\n",
              "    return {\n",
              "      response: {\n",
              "        action: 'complete',\n",
              "      }\n",
              "    };\n",
              "  }\n",
              "\n",
              "  for (const file of files) {\n",
              "    const li = document.createElement('li');\n",
              "    li.append(span(file.name, {fontWeight: 'bold'}));\n",
              "    li.append(span(\n",
              "        `(${file.type || 'n/a'}) - ${file.size} bytes, ` +\n",
              "        `last modified: ${\n",
              "            file.lastModifiedDate ? file.lastModifiedDate.toLocaleDateString() :\n",
              "                                    'n/a'} - `));\n",
              "    const percent = span('0% done');\n",
              "    li.appendChild(percent);\n",
              "\n",
              "    outputElement.appendChild(li);\n",
              "\n",
              "    const fileDataPromise = new Promise((resolve) => {\n",
              "      const reader = new FileReader();\n",
              "      reader.onload = (e) => {\n",
              "        resolve(e.target.result);\n",
              "      };\n",
              "      reader.readAsArrayBuffer(file);\n",
              "    });\n",
              "    // Wait for the data to be ready.\n",
              "    let fileData = yield {\n",
              "      promise: fileDataPromise,\n",
              "      response: {\n",
              "        action: 'continue',\n",
              "      }\n",
              "    };\n",
              "\n",
              "    // Use a chunked sending to avoid message size limits. See b/62115660.\n",
              "    let position = 0;\n",
              "    do {\n",
              "      const length = Math.min(fileData.byteLength - position, MAX_PAYLOAD_SIZE);\n",
              "      const chunk = new Uint8Array(fileData, position, length);\n",
              "      position += length;\n",
              "\n",
              "      const base64 = btoa(String.fromCharCode.apply(null, chunk));\n",
              "      yield {\n",
              "        response: {\n",
              "          action: 'append',\n",
              "          file: file.name,\n",
              "          data: base64,\n",
              "        },\n",
              "      };\n",
              "\n",
              "      let percentDone = fileData.byteLength === 0 ?\n",
              "          100 :\n",
              "          Math.round((position / fileData.byteLength) * 100);\n",
              "      percent.textContent = `${percentDone}% done`;\n",
              "\n",
              "    } while (position < fileData.byteLength);\n",
              "  }\n",
              "\n",
              "  // All done.\n",
              "  yield {\n",
              "    response: {\n",
              "      action: 'complete',\n",
              "    }\n",
              "  };\n",
              "}\n",
              "\n",
              "scope.google = scope.google || {};\n",
              "scope.google.colab = scope.google.colab || {};\n",
              "scope.google.colab._files = {\n",
              "  _uploadFiles,\n",
              "  _uploadFilesContinue,\n",
              "};\n",
              "})(self);\n",
              "</script> "
            ],
            "text/plain": [
              "<IPython.core.display.HTML object>"
            ]
          },
          "metadata": {},
          "output_type": "display_data"
        },
        {
          "name": "stdout",
          "output_type": "stream",
          "text": [
            "Saving kaggle.json to kaggle (1).json\n"
          ]
        },
        {
          "data": {
            "text/plain": [
              "{'kaggle.json': b'{\"username\":\"felixpratama\",\"key\":\"85471e6fceb4fb346ab6077119c87951\"}'}"
            ]
          },
          "execution_count": 2,
          "metadata": {},
          "output_type": "execute_result"
        }
      ],
      "source": [
        "#you need to create your own API first in kaggle\n",
        "#upload kaggle json\n",
        "\n",
        "files.upload()"
      ]
    },
    {
      "cell_type": "code",
      "execution_count": 3,
      "metadata": {
        "colab": {
          "base_uri": "https://localhost:8080/"
        },
        "id": "36_MAmLZvmM5",
        "outputId": "2c1d49ad-53f1-4dfc-af03-d4cfd88e8606"
      },
      "outputs": [
        {
          "name": "stdout",
          "output_type": "stream",
          "text": [
            "mkdir: cannot create directory ‘/root/.kaggle’: File exists\n"
          ]
        }
      ],
      "source": [
        "#create a kaggle folder\n",
        "!mkdir ~/.kaggle"
      ]
    },
    {
      "cell_type": "code",
      "execution_count": 4,
      "metadata": {
        "id": "lN8-JKyGvoon"
      },
      "outputs": [],
      "source": [
        "#copy kaggle.json to folder created\n",
        "!cp kaggle.json ~/.kaggle/\n",
        "\n",
        "#permission for the json to act\n",
        "! chmod 600 ~/.kaggle/kaggle.json"
      ]
    },
    {
      "cell_type": "code",
      "execution_count": 5,
      "metadata": {
        "colab": {
          "base_uri": "https://localhost:8080/"
        },
        "id": "R9uODkqPuBdA",
        "outputId": "fffb38de-5eab-48fb-8a43-bfdd3e59534a"
      },
      "outputs": [
        {
          "name": "stdout",
          "output_type": "stream",
          "text": [
            "twitter-entity-sentiment-analysis.zip: Skipping, found more recently modified local copy (use --force to force download)\n"
          ]
        }
      ],
      "source": [
        "!kaggle datasets download -d jp797498e/twitter-entity-sentiment-analysis"
      ]
    },
    {
      "cell_type": "markdown",
      "metadata": {
        "id": "A8Ir9d0Pv7lp"
      },
      "source": [
        "#Read Dataset"
      ]
    },
    {
      "cell_type": "code",
      "execution_count": 6,
      "metadata": {
        "id": "etDxjVBxv52u"
      },
      "outputs": [],
      "source": [
        "test_local_zip = '/content/twitter-entity-sentiment-analysis.zip'\n",
        "zip_ref = zipfile.ZipFile(test_local_zip, 'r')\n",
        "zip_ref.extractall('/content/dataset')\n",
        "\n",
        "zip_ref.close()"
      ]
    },
    {
      "cell_type": "code",
      "execution_count": 7,
      "metadata": {
        "id": "Y6wPKfYPwISg"
      },
      "outputs": [],
      "source": [
        "training_data = pd.read_csv('/content/dataset/twitter_training.csv')"
      ]
    },
    {
      "cell_type": "code",
      "execution_count": 8,
      "metadata": {
        "colab": {
          "base_uri": "https://localhost:8080/",
          "height": 206
        },
        "id": "wZkGX7czwT7G",
        "outputId": "0049091f-8919-4ef1-93ad-75fb505d6f2f"
      },
      "outputs": [
        {
          "data": {
            "text/html": [
              "\n",
              "  <div id=\"df-0e2ad0f1-7223-4e78-bcef-bde155d43333\">\n",
              "    <div class=\"colab-df-container\">\n",
              "      <div>\n",
              "<style scoped>\n",
              "    .dataframe tbody tr th:only-of-type {\n",
              "        vertical-align: middle;\n",
              "    }\n",
              "\n",
              "    .dataframe tbody tr th {\n",
              "        vertical-align: top;\n",
              "    }\n",
              "\n",
              "    .dataframe thead th {\n",
              "        text-align: right;\n",
              "    }\n",
              "</style>\n",
              "<table border=\"1\" class=\"dataframe\">\n",
              "  <thead>\n",
              "    <tr style=\"text-align: right;\">\n",
              "      <th></th>\n",
              "      <th>2401</th>\n",
              "      <th>Borderlands</th>\n",
              "      <th>Positive</th>\n",
              "      <th>im getting on borderlands and i will murder you all ,</th>\n",
              "    </tr>\n",
              "  </thead>\n",
              "  <tbody>\n",
              "    <tr>\n",
              "      <th>0</th>\n",
              "      <td>2401</td>\n",
              "      <td>Borderlands</td>\n",
              "      <td>Positive</td>\n",
              "      <td>I am coming to the borders and I will kill you...</td>\n",
              "    </tr>\n",
              "    <tr>\n",
              "      <th>1</th>\n",
              "      <td>2401</td>\n",
              "      <td>Borderlands</td>\n",
              "      <td>Positive</td>\n",
              "      <td>im getting on borderlands and i will kill you ...</td>\n",
              "    </tr>\n",
              "    <tr>\n",
              "      <th>2</th>\n",
              "      <td>2401</td>\n",
              "      <td>Borderlands</td>\n",
              "      <td>Positive</td>\n",
              "      <td>im coming on borderlands and i will murder you...</td>\n",
              "    </tr>\n",
              "    <tr>\n",
              "      <th>3</th>\n",
              "      <td>2401</td>\n",
              "      <td>Borderlands</td>\n",
              "      <td>Positive</td>\n",
              "      <td>im getting on borderlands 2 and i will murder ...</td>\n",
              "    </tr>\n",
              "    <tr>\n",
              "      <th>4</th>\n",
              "      <td>2401</td>\n",
              "      <td>Borderlands</td>\n",
              "      <td>Positive</td>\n",
              "      <td>im getting into borderlands and i can murder y...</td>\n",
              "    </tr>\n",
              "  </tbody>\n",
              "</table>\n",
              "</div>\n",
              "      <button class=\"colab-df-convert\" onclick=\"convertToInteractive('df-0e2ad0f1-7223-4e78-bcef-bde155d43333')\"\n",
              "              title=\"Convert this dataframe to an interactive table.\"\n",
              "              style=\"display:none;\">\n",
              "        \n",
              "  <svg xmlns=\"http://www.w3.org/2000/svg\" height=\"24px\"viewBox=\"0 0 24 24\"\n",
              "       width=\"24px\">\n",
              "    <path d=\"M0 0h24v24H0V0z\" fill=\"none\"/>\n",
              "    <path d=\"M18.56 5.44l.94 2.06.94-2.06 2.06-.94-2.06-.94-.94-2.06-.94 2.06-2.06.94zm-11 1L8.5 8.5l.94-2.06 2.06-.94-2.06-.94L8.5 2.5l-.94 2.06-2.06.94zm10 10l.94 2.06.94-2.06 2.06-.94-2.06-.94-.94-2.06-.94 2.06-2.06.94z\"/><path d=\"M17.41 7.96l-1.37-1.37c-.4-.4-.92-.59-1.43-.59-.52 0-1.04.2-1.43.59L10.3 9.45l-7.72 7.72c-.78.78-.78 2.05 0 2.83L4 21.41c.39.39.9.59 1.41.59.51 0 1.02-.2 1.41-.59l7.78-7.78 2.81-2.81c.8-.78.8-2.07 0-2.86zM5.41 20L4 18.59l7.72-7.72 1.47 1.35L5.41 20z\"/>\n",
              "  </svg>\n",
              "      </button>\n",
              "      \n",
              "  <style>\n",
              "    .colab-df-container {\n",
              "      display:flex;\n",
              "      flex-wrap:wrap;\n",
              "      gap: 12px;\n",
              "    }\n",
              "\n",
              "    .colab-df-convert {\n",
              "      background-color: #E8F0FE;\n",
              "      border: none;\n",
              "      border-radius: 50%;\n",
              "      cursor: pointer;\n",
              "      display: none;\n",
              "      fill: #1967D2;\n",
              "      height: 32px;\n",
              "      padding: 0 0 0 0;\n",
              "      width: 32px;\n",
              "    }\n",
              "\n",
              "    .colab-df-convert:hover {\n",
              "      background-color: #E2EBFA;\n",
              "      box-shadow: 0px 1px 2px rgba(60, 64, 67, 0.3), 0px 1px 3px 1px rgba(60, 64, 67, 0.15);\n",
              "      fill: #174EA6;\n",
              "    }\n",
              "\n",
              "    [theme=dark] .colab-df-convert {\n",
              "      background-color: #3B4455;\n",
              "      fill: #D2E3FC;\n",
              "    }\n",
              "\n",
              "    [theme=dark] .colab-df-convert:hover {\n",
              "      background-color: #434B5C;\n",
              "      box-shadow: 0px 1px 3px 1px rgba(0, 0, 0, 0.15);\n",
              "      filter: drop-shadow(0px 1px 2px rgba(0, 0, 0, 0.3));\n",
              "      fill: #FFFFFF;\n",
              "    }\n",
              "  </style>\n",
              "\n",
              "      <script>\n",
              "        const buttonEl =\n",
              "          document.querySelector('#df-0e2ad0f1-7223-4e78-bcef-bde155d43333 button.colab-df-convert');\n",
              "        buttonEl.style.display =\n",
              "          google.colab.kernel.accessAllowed ? 'block' : 'none';\n",
              "\n",
              "        async function convertToInteractive(key) {\n",
              "          const element = document.querySelector('#df-0e2ad0f1-7223-4e78-bcef-bde155d43333');\n",
              "          const dataTable =\n",
              "            await google.colab.kernel.invokeFunction('convertToInteractive',\n",
              "                                                     [key], {});\n",
              "          if (!dataTable) return;\n",
              "\n",
              "          const docLinkHtml = 'Like what you see? Visit the ' +\n",
              "            '<a target=\"_blank\" href=https://colab.research.google.com/notebooks/data_table.ipynb>data table notebook</a>'\n",
              "            + ' to learn more about interactive tables.';\n",
              "          element.innerHTML = '';\n",
              "          dataTable['output_type'] = 'display_data';\n",
              "          await google.colab.output.renderOutput(dataTable, element);\n",
              "          const docLink = document.createElement('div');\n",
              "          docLink.innerHTML = docLinkHtml;\n",
              "          element.appendChild(docLink);\n",
              "        }\n",
              "      </script>\n",
              "    </div>\n",
              "  </div>\n",
              "  "
            ],
            "text/plain": [
              "   2401  Borderlands  Positive  \\\n",
              "0  2401  Borderlands  Positive   \n",
              "1  2401  Borderlands  Positive   \n",
              "2  2401  Borderlands  Positive   \n",
              "3  2401  Borderlands  Positive   \n",
              "4  2401  Borderlands  Positive   \n",
              "\n",
              "  im getting on borderlands and i will murder you all ,  \n",
              "0  I am coming to the borders and I will kill you...     \n",
              "1  im getting on borderlands and i will kill you ...     \n",
              "2  im coming on borderlands and i will murder you...     \n",
              "3  im getting on borderlands 2 and i will murder ...     \n",
              "4  im getting into borderlands and i can murder y...     "
            ]
          },
          "execution_count": 8,
          "metadata": {},
          "output_type": "execute_result"
        }
      ],
      "source": [
        "training_data.head()"
      ]
    },
    {
      "cell_type": "code",
      "execution_count": 9,
      "metadata": {
        "id": "kvcbODhIwykP"
      },
      "outputs": [],
      "source": [
        "# add columns name\n",
        "\n",
        "columns = ['tweet_id', 'entity', 'sentiment', 'tweet_content']\n",
        "training_data.columns = columns"
      ]
    },
    {
      "cell_type": "code",
      "execution_count": 10,
      "metadata": {
        "colab": {
          "base_uri": "https://localhost:8080/",
          "height": 206
        },
        "id": "TQpra0xCx88i",
        "outputId": "12999aae-70a3-4fb2-ba23-19c8030c7b4c"
      },
      "outputs": [
        {
          "data": {
            "text/html": [
              "\n",
              "  <div id=\"df-0bb8ae1e-c1dc-4f87-989f-7f2eda303248\">\n",
              "    <div class=\"colab-df-container\">\n",
              "      <div>\n",
              "<style scoped>\n",
              "    .dataframe tbody tr th:only-of-type {\n",
              "        vertical-align: middle;\n",
              "    }\n",
              "\n",
              "    .dataframe tbody tr th {\n",
              "        vertical-align: top;\n",
              "    }\n",
              "\n",
              "    .dataframe thead th {\n",
              "        text-align: right;\n",
              "    }\n",
              "</style>\n",
              "<table border=\"1\" class=\"dataframe\">\n",
              "  <thead>\n",
              "    <tr style=\"text-align: right;\">\n",
              "      <th></th>\n",
              "      <th>tweet_id</th>\n",
              "      <th>entity</th>\n",
              "      <th>sentiment</th>\n",
              "      <th>tweet_content</th>\n",
              "    </tr>\n",
              "  </thead>\n",
              "  <tbody>\n",
              "    <tr>\n",
              "      <th>0</th>\n",
              "      <td>2401</td>\n",
              "      <td>Borderlands</td>\n",
              "      <td>Positive</td>\n",
              "      <td>I am coming to the borders and I will kill you...</td>\n",
              "    </tr>\n",
              "    <tr>\n",
              "      <th>1</th>\n",
              "      <td>2401</td>\n",
              "      <td>Borderlands</td>\n",
              "      <td>Positive</td>\n",
              "      <td>im getting on borderlands and i will kill you ...</td>\n",
              "    </tr>\n",
              "    <tr>\n",
              "      <th>2</th>\n",
              "      <td>2401</td>\n",
              "      <td>Borderlands</td>\n",
              "      <td>Positive</td>\n",
              "      <td>im coming on borderlands and i will murder you...</td>\n",
              "    </tr>\n",
              "    <tr>\n",
              "      <th>3</th>\n",
              "      <td>2401</td>\n",
              "      <td>Borderlands</td>\n",
              "      <td>Positive</td>\n",
              "      <td>im getting on borderlands 2 and i will murder ...</td>\n",
              "    </tr>\n",
              "    <tr>\n",
              "      <th>4</th>\n",
              "      <td>2401</td>\n",
              "      <td>Borderlands</td>\n",
              "      <td>Positive</td>\n",
              "      <td>im getting into borderlands and i can murder y...</td>\n",
              "    </tr>\n",
              "  </tbody>\n",
              "</table>\n",
              "</div>\n",
              "      <button class=\"colab-df-convert\" onclick=\"convertToInteractive('df-0bb8ae1e-c1dc-4f87-989f-7f2eda303248')\"\n",
              "              title=\"Convert this dataframe to an interactive table.\"\n",
              "              style=\"display:none;\">\n",
              "        \n",
              "  <svg xmlns=\"http://www.w3.org/2000/svg\" height=\"24px\"viewBox=\"0 0 24 24\"\n",
              "       width=\"24px\">\n",
              "    <path d=\"M0 0h24v24H0V0z\" fill=\"none\"/>\n",
              "    <path d=\"M18.56 5.44l.94 2.06.94-2.06 2.06-.94-2.06-.94-.94-2.06-.94 2.06-2.06.94zm-11 1L8.5 8.5l.94-2.06 2.06-.94-2.06-.94L8.5 2.5l-.94 2.06-2.06.94zm10 10l.94 2.06.94-2.06 2.06-.94-2.06-.94-.94-2.06-.94 2.06-2.06.94z\"/><path d=\"M17.41 7.96l-1.37-1.37c-.4-.4-.92-.59-1.43-.59-.52 0-1.04.2-1.43.59L10.3 9.45l-7.72 7.72c-.78.78-.78 2.05 0 2.83L4 21.41c.39.39.9.59 1.41.59.51 0 1.02-.2 1.41-.59l7.78-7.78 2.81-2.81c.8-.78.8-2.07 0-2.86zM5.41 20L4 18.59l7.72-7.72 1.47 1.35L5.41 20z\"/>\n",
              "  </svg>\n",
              "      </button>\n",
              "      \n",
              "  <style>\n",
              "    .colab-df-container {\n",
              "      display:flex;\n",
              "      flex-wrap:wrap;\n",
              "      gap: 12px;\n",
              "    }\n",
              "\n",
              "    .colab-df-convert {\n",
              "      background-color: #E8F0FE;\n",
              "      border: none;\n",
              "      border-radius: 50%;\n",
              "      cursor: pointer;\n",
              "      display: none;\n",
              "      fill: #1967D2;\n",
              "      height: 32px;\n",
              "      padding: 0 0 0 0;\n",
              "      width: 32px;\n",
              "    }\n",
              "\n",
              "    .colab-df-convert:hover {\n",
              "      background-color: #E2EBFA;\n",
              "      box-shadow: 0px 1px 2px rgba(60, 64, 67, 0.3), 0px 1px 3px 1px rgba(60, 64, 67, 0.15);\n",
              "      fill: #174EA6;\n",
              "    }\n",
              "\n",
              "    [theme=dark] .colab-df-convert {\n",
              "      background-color: #3B4455;\n",
              "      fill: #D2E3FC;\n",
              "    }\n",
              "\n",
              "    [theme=dark] .colab-df-convert:hover {\n",
              "      background-color: #434B5C;\n",
              "      box-shadow: 0px 1px 3px 1px rgba(0, 0, 0, 0.15);\n",
              "      filter: drop-shadow(0px 1px 2px rgba(0, 0, 0, 0.3));\n",
              "      fill: #FFFFFF;\n",
              "    }\n",
              "  </style>\n",
              "\n",
              "      <script>\n",
              "        const buttonEl =\n",
              "          document.querySelector('#df-0bb8ae1e-c1dc-4f87-989f-7f2eda303248 button.colab-df-convert');\n",
              "        buttonEl.style.display =\n",
              "          google.colab.kernel.accessAllowed ? 'block' : 'none';\n",
              "\n",
              "        async function convertToInteractive(key) {\n",
              "          const element = document.querySelector('#df-0bb8ae1e-c1dc-4f87-989f-7f2eda303248');\n",
              "          const dataTable =\n",
              "            await google.colab.kernel.invokeFunction('convertToInteractive',\n",
              "                                                     [key], {});\n",
              "          if (!dataTable) return;\n",
              "\n",
              "          const docLinkHtml = 'Like what you see? Visit the ' +\n",
              "            '<a target=\"_blank\" href=https://colab.research.google.com/notebooks/data_table.ipynb>data table notebook</a>'\n",
              "            + ' to learn more about interactive tables.';\n",
              "          element.innerHTML = '';\n",
              "          dataTable['output_type'] = 'display_data';\n",
              "          await google.colab.output.renderOutput(dataTable, element);\n",
              "          const docLink = document.createElement('div');\n",
              "          docLink.innerHTML = docLinkHtml;\n",
              "          element.appendChild(docLink);\n",
              "        }\n",
              "      </script>\n",
              "    </div>\n",
              "  </div>\n",
              "  "
            ],
            "text/plain": [
              "   tweet_id       entity sentiment  \\\n",
              "0      2401  Borderlands  Positive   \n",
              "1      2401  Borderlands  Positive   \n",
              "2      2401  Borderlands  Positive   \n",
              "3      2401  Borderlands  Positive   \n",
              "4      2401  Borderlands  Positive   \n",
              "\n",
              "                                       tweet_content  \n",
              "0  I am coming to the borders and I will kill you...  \n",
              "1  im getting on borderlands and i will kill you ...  \n",
              "2  im coming on borderlands and i will murder you...  \n",
              "3  im getting on borderlands 2 and i will murder ...  \n",
              "4  im getting into borderlands and i can murder y...  "
            ]
          },
          "execution_count": 10,
          "metadata": {},
          "output_type": "execute_result"
        }
      ],
      "source": [
        "training_data.head()"
      ]
    },
    {
      "cell_type": "code",
      "execution_count": 11,
      "metadata": {
        "colab": {
          "base_uri": "https://localhost:8080/"
        },
        "id": "ffVkY0j_41Ky",
        "outputId": "cd54bba2-18f4-46ca-b253-037b386a49a5"
      },
      "outputs": [
        {
          "data": {
            "text/plain": [
              "(74681, 4)"
            ]
          },
          "execution_count": 11,
          "metadata": {},
          "output_type": "execute_result"
        }
      ],
      "source": [
        "#print shape of training data\n",
        "training_data.shape"
      ]
    },
    {
      "cell_type": "code",
      "execution_count": 12,
      "metadata": {
        "colab": {
          "base_uri": "https://localhost:8080/"
        },
        "id": "Hy6g1GJA0PnV",
        "outputId": "dfa4b2ef-02b4-425e-e9aa-bdc16f023e97"
      },
      "outputs": [
        {
          "name": "stdout",
          "output_type": "stream",
          "text": [
            "<class 'pandas.core.frame.DataFrame'>\n",
            "RangeIndex: 74681 entries, 0 to 74680\n",
            "Data columns (total 4 columns):\n",
            " #   Column         Non-Null Count  Dtype \n",
            "---  ------         --------------  ----- \n",
            " 0   tweet_id       74681 non-null  int64 \n",
            " 1   entity         74681 non-null  object\n",
            " 2   sentiment      74681 non-null  object\n",
            " 3   tweet_content  73995 non-null  object\n",
            "dtypes: int64(1), object(3)\n",
            "memory usage: 2.3+ MB\n"
          ]
        }
      ],
      "source": [
        "training_data.info()"
      ]
    },
    {
      "cell_type": "code",
      "execution_count": 13,
      "metadata": {
        "colab": {
          "base_uri": "https://localhost:8080/"
        },
        "id": "rRWJ-tW24uWI",
        "outputId": "635b664c-053c-4114-f18e-91fbaed4e6b9"
      },
      "outputs": [
        {
          "data": {
            "text/plain": [
              "tweet_id           0\n",
              "entity             0\n",
              "sentiment          0\n",
              "tweet_content    686\n",
              "dtype: int64"
            ]
          },
          "execution_count": 13,
          "metadata": {},
          "output_type": "execute_result"
        }
      ],
      "source": [
        "#check missing value\n",
        "training_data.isnull().sum()"
      ]
    },
    {
      "cell_type": "code",
      "execution_count": 14,
      "metadata": {
        "id": "HFc0T4zH4yh7"
      },
      "outputs": [],
      "source": [
        "#remove missing values\n",
        "training_data = training_data.dropna()"
      ]
    },
    {
      "cell_type": "code",
      "execution_count": 15,
      "metadata": {
        "colab": {
          "base_uri": "https://localhost:8080/"
        },
        "id": "8LKmFu-85FIl",
        "outputId": "118ba85e-4d0f-4037-d935-9e2d90a537db"
      },
      "outputs": [
        {
          "data": {
            "text/plain": [
              "tweet_id         0\n",
              "entity           0\n",
              "sentiment        0\n",
              "tweet_content    0\n",
              "dtype: int64"
            ]
          },
          "execution_count": 15,
          "metadata": {},
          "output_type": "execute_result"
        }
      ],
      "source": [
        "#check missing values after remove them\n",
        "training_data.isnull().sum()"
      ]
    },
    {
      "cell_type": "markdown",
      "metadata": {
        "id": "Lt43Mmy57Sz_"
      },
      "source": [
        "# Exploratory Data Analysist"
      ]
    },
    {
      "cell_type": "code",
      "execution_count": 16,
      "metadata": {
        "id": "sLHD3rYv0kAp"
      },
      "outputs": [],
      "source": [
        "#dropping 'tweet_id', 'entity'\n",
        "training_data = training_data.drop(['tweet_id', 'entity'], axis=1)"
      ]
    },
    {
      "cell_type": "code",
      "execution_count": 17,
      "metadata": {
        "colab": {
          "base_uri": "https://localhost:8080/"
        },
        "id": "5tgc7DNW5hIM",
        "outputId": "da798a41-41f2-455c-ac54-ef8524bc209d"
      },
      "outputs": [
        {
          "name": "stdout",
          "output_type": "stream",
          "text": [
            "shape after remove missing values and drop columns: (73995, 2)\n"
          ]
        }
      ],
      "source": [
        "print('shape after remove missing values and drop columns: {}'.format(training_data.shape))"
      ]
    },
    {
      "cell_type": "code",
      "execution_count": 18,
      "metadata": {
        "id": "YySRhmwr1QEl"
      },
      "outputs": [],
      "source": [
        "sentiments = training_data['sentiment']"
      ]
    },
    {
      "cell_type": "code",
      "execution_count": 19,
      "metadata": {
        "colab": {
          "base_uri": "https://localhost:8080/",
          "height": 368
        },
        "id": "t73dko3O2YA_",
        "outputId": "e4da5895-1b2c-4764-b134-17790e3e7578"
      },
      "outputs": [
        {
          "name": "stdout",
          "output_type": "stream",
          "text": [
            "Negative      22358\n",
            "Positive      20654\n",
            "Neutral       18108\n",
            "Irrelevant    12875\n",
            "Name: sentiment, dtype: int64\n"
          ]
        },
        {
          "data": {
            "image/png": "[encoded data removed]",
            "text/plain": [
              "<Figure size 432x288 with 1 Axes>"
            ]
          },
          "metadata": {
            "needs_background": "light"
          },
          "output_type": "display_data"
        }
      ],
      "source": [
        "# plot label\n",
        "x_axis = sentiments.value_counts().index\n",
        "y_axis = sentiments.value_counts()\n",
        "\n",
        "print(y_axis)\n",
        "\n",
        "plt.title('Label')\n",
        "sns.barplot(x = x_axis, y = y_axis,  data=training_data)\n",
        "plt.show()"
      ]
    },
    {
      "cell_type": "markdown",
      "metadata": {
        "id": "QHogm6xS0dXH"
      },
      "source": [
        "# Data Preprocessing\n"
      ]
    },
    {
      "cell_type": "code",
      "execution_count": 20,
      "metadata": {
        "colab": {
          "base_uri": "https://localhost:8080/",
          "height": 423
        },
        "id": "9pqAZF723Tfy",
        "outputId": "a58f2aa8-2375-485f-d471-a402e9d17794"
      },
      "outputs": [
        {
          "data": {
            "text/html": [
              "\n",
              "  <div id=\"df-51447d75-d082-45ed-9941-80738fea3533\">\n",
              "    <div class=\"colab-df-container\">\n",
              "      <div>\n",
              "<style scoped>\n",
              "    .dataframe tbody tr th:only-of-type {\n",
              "        vertical-align: middle;\n",
              "    }\n",
              "\n",
              "    .dataframe tbody tr th {\n",
              "        vertical-align: top;\n",
              "    }\n",
              "\n",
              "    .dataframe thead th {\n",
              "        text-align: right;\n",
              "    }\n",
              "</style>\n",
              "<table border=\"1\" class=\"dataframe\">\n",
              "  <thead>\n",
              "    <tr style=\"text-align: right;\">\n",
              "      <th></th>\n",
              "      <th>tweet_content</th>\n",
              "      <th>Irrelevant</th>\n",
              "      <th>Negative</th>\n",
              "      <th>Neutral</th>\n",
              "      <th>Positive</th>\n",
              "    </tr>\n",
              "  </thead>\n",
              "  <tbody>\n",
              "    <tr>\n",
              "      <th>0</th>\n",
              "      <td>I am coming to the borders and I will kill you...</td>\n",
              "      <td>0</td>\n",
              "      <td>0</td>\n",
              "      <td>0</td>\n",
              "      <td>1</td>\n",
              "    </tr>\n",
              "    <tr>\n",
              "      <th>1</th>\n",
              "      <td>im getting on borderlands and i will kill you ...</td>\n",
              "      <td>0</td>\n",
              "      <td>0</td>\n",
              "      <td>0</td>\n",
              "      <td>1</td>\n",
              "    </tr>\n",
              "    <tr>\n",
              "      <th>2</th>\n",
              "      <td>im coming on borderlands and i will murder you...</td>\n",
              "      <td>0</td>\n",
              "      <td>0</td>\n",
              "      <td>0</td>\n",
              "      <td>1</td>\n",
              "    </tr>\n",
              "    <tr>\n",
              "      <th>3</th>\n",
              "      <td>im getting on borderlands 2 and i will murder ...</td>\n",
              "      <td>0</td>\n",
              "      <td>0</td>\n",
              "      <td>0</td>\n",
              "      <td>1</td>\n",
              "    </tr>\n",
              "    <tr>\n",
              "      <th>4</th>\n",
              "      <td>im getting into borderlands and i can murder y...</td>\n",
              "      <td>0</td>\n",
              "      <td>0</td>\n",
              "      <td>0</td>\n",
              "      <td>1</td>\n",
              "    </tr>\n",
              "    <tr>\n",
              "      <th>...</th>\n",
              "      <td>...</td>\n",
              "      <td>...</td>\n",
              "      <td>...</td>\n",
              "      <td>...</td>\n",
              "      <td>...</td>\n",
              "    </tr>\n",
              "    <tr>\n",
              "      <th>74676</th>\n",
              "      <td>Just realized that the Windows partition of my...</td>\n",
              "      <td>0</td>\n",
              "      <td>0</td>\n",
              "      <td>0</td>\n",
              "      <td>1</td>\n",
              "    </tr>\n",
              "    <tr>\n",
              "      <th>74677</th>\n",
              "      <td>Just realized that my Mac window partition is ...</td>\n",
              "      <td>0</td>\n",
              "      <td>0</td>\n",
              "      <td>0</td>\n",
              "      <td>1</td>\n",
              "    </tr>\n",
              "    <tr>\n",
              "      <th>74678</th>\n",
              "      <td>Just realized the windows partition of my Mac ...</td>\n",
              "      <td>0</td>\n",
              "      <td>0</td>\n",
              "      <td>0</td>\n",
              "      <td>1</td>\n",
              "    </tr>\n",
              "    <tr>\n",
              "      <th>74679</th>\n",
              "      <td>Just realized between the windows partition of...</td>\n",
              "      <td>0</td>\n",
              "      <td>0</td>\n",
              "      <td>0</td>\n",
              "      <td>1</td>\n",
              "    </tr>\n",
              "    <tr>\n",
              "      <th>74680</th>\n",
              "      <td>Just like the windows partition of my Mac is l...</td>\n",
              "      <td>0</td>\n",
              "      <td>0</td>\n",
              "      <td>0</td>\n",
              "      <td>1</td>\n",
              "    </tr>\n",
              "  </tbody>\n",
              "</table>\n",
              "<p>73995 rows × 5 columns</p>\n",
              "</div>\n",
              "      <button class=\"colab-df-convert\" onclick=\"convertToInteractive('df-51447d75-d082-45ed-9941-80738fea3533')\"\n",
              "              title=\"Convert this dataframe to an interactive table.\"\n",
              "              style=\"display:none;\">\n",
              "        \n",
              "  <svg xmlns=\"http://www.w3.org/2000/svg\" height=\"24px\"viewBox=\"0 0 24 24\"\n",
              "       width=\"24px\">\n",
              "    <path d=\"M0 0h24v24H0V0z\" fill=\"none\"/>\n",
              "    <path d=\"M18.56 5.44l.94 2.06.94-2.06 2.06-.94-2.06-.94-.94-2.06-.94 2.06-2.06.94zm-11 1L8.5 8.5l.94-2.06 2.06-.94-2.06-.94L8.5 2.5l-.94 2.06-2.06.94zm10 10l.94 2.06.94-2.06 2.06-.94-2.06-.94-.94-2.06-.94 2.06-2.06.94z\"/><path d=\"M17.41 7.96l-1.37-1.37c-.4-.4-.92-.59-1.43-.59-.52 0-1.04.2-1.43.59L10.3 9.45l-7.72 7.72c-.78.78-.78 2.05 0 2.83L4 21.41c.39.39.9.59 1.41.59.51 0 1.02-.2 1.41-.59l7.78-7.78 2.81-2.81c.8-.78.8-2.07 0-2.86zM5.41 20L4 18.59l7.72-7.72 1.47 1.35L5.41 20z\"/>\n",
              "  </svg>\n",
              "      </button>\n",
              "      \n",
              "  <style>\n",
              "    .colab-df-container {\n",
              "      display:flex;\n",
              "      flex-wrap:wrap;\n",
              "      gap: 12px;\n",
              "    }\n",
              "\n",
              "    .colab-df-convert {\n",
              "      background-color: #E8F0FE;\n",
              "      border: none;\n",
              "      border-radius: 50%;\n",
              "      cursor: pointer;\n",
              "      display: none;\n",
              "      fill: #1967D2;\n",
              "      height: 32px;\n",
              "      padding: 0 0 0 0;\n",
              "      width: 32px;\n",
              "    }\n",
              "\n",
              "    .colab-df-convert:hover {\n",
              "      background-color: #E2EBFA;\n",
              "      box-shadow: 0px 1px 2px rgba(60, 64, 67, 0.3), 0px 1px 3px 1px rgba(60, 64, 67, 0.15);\n",
              "      fill: #174EA6;\n",
              "    }\n",
              "\n",
              "    [theme=dark] .colab-df-convert {\n",
              "      background-color: #3B4455;\n",
              "      fill: #D2E3FC;\n",
              "    }\n",
              "\n",
              "    [theme=dark] .colab-df-convert:hover {\n",
              "      background-color: #434B5C;\n",
              "      box-shadow: 0px 1px 3px 1px rgba(0, 0, 0, 0.15);\n",
              "      filter: drop-shadow(0px 1px 2px rgba(0, 0, 0, 0.3));\n",
              "      fill: #FFFFFF;\n",
              "    }\n",
              "  </style>\n",
              "\n",
              "      <script>\n",
              "        const buttonEl =\n",
              "          document.querySelector('#df-51447d75-d082-45ed-9941-80738fea3533 button.colab-df-convert');\n",
              "        buttonEl.style.display =\n",
              "          google.colab.kernel.accessAllowed ? 'block' : 'none';\n",
              "\n",
              "        async function convertToInteractive(key) {\n",
              "          const element = document.querySelector('#df-51447d75-d082-45ed-9941-80738fea3533');\n",
              "          const dataTable =\n",
              "            await google.colab.kernel.invokeFunction('convertToInteractive',\n",
              "                                                     [key], {});\n",
              "          if (!dataTable) return;\n",
              "\n",
              "          const docLinkHtml = 'Like what you see? Visit the ' +\n",
              "            '<a target=\"_blank\" href=https://colab.research.google.com/notebooks/data_table.ipynb>data table notebook</a>'\n",
              "            + ' to learn more about interactive tables.';\n",
              "          element.innerHTML = '';\n",
              "          dataTable['output_type'] = 'display_data';\n",
              "          await google.colab.output.renderOutput(dataTable, element);\n",
              "          const docLink = document.createElement('div');\n",
              "          docLink.innerHTML = docLinkHtml;\n",
              "          element.appendChild(docLink);\n",
              "        }\n",
              "      </script>\n",
              "    </div>\n",
              "  </div>\n",
              "  "
            ],
            "text/plain": [
              "                                           tweet_content  Irrelevant  \\\n",
              "0      I am coming to the borders and I will kill you...           0   \n",
              "1      im getting on borderlands and i will kill you ...           0   \n",
              "2      im coming on borderlands and i will murder you...           0   \n",
              "3      im getting on borderlands 2 and i will murder ...           0   \n",
              "4      im getting into borderlands and i can murder y...           0   \n",
              "...                                                  ...         ...   \n",
              "74676  Just realized that the Windows partition of my...           0   \n",
              "74677  Just realized that my Mac window partition is ...           0   \n",
              "74678  Just realized the windows partition of my Mac ...           0   \n",
              "74679  Just realized between the windows partition of...           0   \n",
              "74680  Just like the windows partition of my Mac is l...           0   \n",
              "\n",
              "       Negative  Neutral  Positive  \n",
              "0             0        0         1  \n",
              "1             0        0         1  \n",
              "2             0        0         1  \n",
              "3             0        0         1  \n",
              "4             0        0         1  \n",
              "...         ...      ...       ...  \n",
              "74676         0        0         1  \n",
              "74677         0        0         1  \n",
              "74678         0        0         1  \n",
              "74679         0        0         1  \n",
              "74680         0        0         1  \n",
              "\n",
              "[73995 rows x 5 columns]"
            ]
          },
          "execution_count": 20,
          "metadata": {},
          "output_type": "execute_result"
        }
      ],
      "source": [
        "onehot_sentiments = pd.get_dummies(training_data['sentiment'])\n",
        "training_data_clean = pd.concat([training_data, onehot_sentiments], axis=1)\n",
        "training_data_clean = training_data_clean.drop(columns='sentiment')\n",
        "training_data_clean"
      ]
    },
    {
      "cell_type": "code",
      "execution_count": 21,
      "metadata": {
        "id": "5cQUaAm64Wo1"
      },
      "outputs": [],
      "source": [
        "# change column into numpy array\n",
        "tweet = training_data_clean['tweet_content'].values\n",
        "label = training_data_clean[['Irrelevant','Negative', 'Neutral', 'Positive']].values"
      ]
    },
    {
      "cell_type": "code",
      "execution_count": 22,
      "metadata": {
        "colab": {
          "base_uri": "https://localhost:8080/"
        },
        "id": "pT5exanF6voD",
        "outputId": "4b565f75-1d54-4bea-bc37-819fa1b17a6b"
      },
      "outputs": [
        {
          "name": "stdout",
          "output_type": "stream",
          "text": [
            "twwet type: <class 'numpy.ndarray'>\n",
            "['I am coming to the borders and I will kill you all,'\n",
            " 'im getting on borderlands and i will kill you all,'\n",
            " 'im coming on borderlands and i will murder you all,' ...\n",
            " 'Just realized the windows partition of my Mac is now 6 years behind on Nvidia drivers and I have no idea how he didn’t notice'\n",
            " 'Just realized between the windows partition of my Mac is like being 6 years behind on Nvidia drivers and cars I have no fucking idea how I ever didn ’ t notice'\n",
            " 'Just like the windows partition of my Mac is like 6 years behind on its drivers So you have no idea how I didn’t notice']\n",
            "\n",
            "label type: <class 'numpy.ndarray'>\n",
            "[[0 0 0 1]\n",
            " [0 0 0 1]\n",
            " [0 0 0 1]\n",
            " ...\n",
            " [0 0 0 1]\n",
            " [0 0 0 1]\n",
            " [0 0 0 1]]\n"
          ]
        }
      ],
      "source": [
        "print('twwet type: {}\\n{}\\n'.format(type(tweet),tweet))\n",
        "print('label type: {}\\n{}'.format(type(label),label))"
      ]
    },
    {
      "cell_type": "code",
      "execution_count": 23,
      "metadata": {
        "id": "vEGw9Mdk8QLf"
      },
      "outputs": [],
      "source": [
        "#split data\n",
        "train_tweet, test_tweet, train_label, test_label = train_test_split(tweet, label, test_size = 0.2, random_state = 42) "
      ]
    },
    {
      "cell_type": "code",
      "execution_count": 24,
      "metadata": {
        "colab": {
          "base_uri": "https://localhost:8080/"
        },
        "id": "_7SL1bJH9Hc2",
        "outputId": "b1365ce3-fba8-425a-b830-98537fd9090d"
      },
      "outputs": [
        {
          "name": "stdout",
          "output_type": "stream",
          "text": [
            "shape train_tweet: (59196,)\n",
            "shape test_tweet: (14799,)\n",
            "shape label_train: (59196, 4)\n",
            "shape label_test: (14799, 4)\n"
          ]
        }
      ],
      "source": [
        "print('shape train_tweet: {}'.format(train_tweet.shape))\n",
        "print('shape test_tweet: {}'.format(test_tweet.shape))\n",
        "print('shape label_train: {}'.format(train_label.shape))\n",
        "print('shape label_test: {}'.format(test_label.shape))"
      ]
    },
    {
      "cell_type": "code",
      "execution_count": 25,
      "metadata": {
        "id": "f75NK5ZH-Hg0"
      },
      "outputs": [],
      "source": [
        "tokenizer = Tokenizer(num_words=10000, oov_token = '<oov>')\n",
        "label_tokenizer = Tokenizer()"
      ]
    },
    {
      "cell_type": "code",
      "execution_count": 26,
      "metadata": {
        "id": "LA-l15Ex-SE5"
      },
      "outputs": [],
      "source": [
        "tokenizer.fit_on_texts(train_tweet)"
      ]
    },
    {
      "cell_type": "code",
      "execution_count": 1,
      "metadata": {
        "colab": {
          "base_uri": "https://localhost:8080/"
        },
        "id": "Hr0cicFl-SHQ",
        "outputId": "426475bf-1d63-4d2d-8797-10b66aed9ef3"
      },
      "outputs": [],
      "source": [
        "#check word index in tokenizer\n",
        "# print(tokenizer.word_index)"
      ]
    },
    {
      "cell_type": "code",
      "execution_count": 28,
      "metadata": {
        "id": "cygITXnJ-SJa"
      },
      "outputs": [],
      "source": [
        "train_sequences = tokenizer.texts_to_sequences(train_tweet)\n",
        "test_sequences = tokenizer.texts_to_sequences(test_tweet)"
      ]
    },
    {
      "cell_type": "code",
      "execution_count": 29,
      "metadata": {
        "id": "IoMcd2y--SMD"
      },
      "outputs": [],
      "source": [
        "train_pad = pad_sequences(train_sequences,\n",
        "                          maxlen = 150,\n",
        "                          padding = 'post',\n",
        "                          truncating = 'post')\n",
        "\n",
        "test_pad = pad_sequences(test_sequences,\n",
        "                          maxlen = 150,\n",
        "                          padding = 'post',\n",
        "                          truncating = 'post')"
      ]
    },
    {
      "attachments": {},
      "cell_type": "markdown",
      "metadata": {
        "id": "Byv5AtGYAK1i"
      },
      "source": [
        "# Build Model"
      ]
    },
    {
      "cell_type": "code",
      "execution_count": 30,
      "metadata": {
        "id": "16KV5agsB-UE"
      },
      "outputs": [],
      "source": [
        "# class myCallback(tf.keras.callbacks.Callback):\n",
        "#   def on_epoch_end(self, epoch, logs={}):\n",
        "#     if(logs.get('accuracy')>=0.92 and logs.get('val_accuracy')>=0.92):\n",
        "#       print(\"\\nAkurasi telah mencapai >= 92%!\")\n",
        "#       self.model.stop_training = True\n",
        "# callbacks = myCallback()\n",
        "\n",
        "callbacks = EarlyStopping(monitor = 'val_loss',\n",
        "                        patience = 3,\n",
        "                        verbose = 1)\n"
      ]
    },
    {
      "cell_type": "code",
      "execution_count": 31,
      "metadata": {
        "id": "PUIW87XKAKYl"
      },
      "outputs": [],
      "source": [
        "model = tf.keras.Sequential([\n",
        "    tf.keras.layers.Embedding(input_dim = 10000, output_dim=16, input_length = 150),\n",
        "    # tf.keras.layers.Bidirectional(tf.keras.layers.LSTM(64, return_sequences = True)),\n",
        "    # tf.keras.layers.Bidirectional(tf.keras.layers.LSTM(32)),\n",
        "    # tf.keras.layers.Bidirectional(tf.keras.layers.LSTM(32)),\n",
        "    # tf.keras.layers.LSTM(16),\n",
        "    # tf.keras.layers.LSTM(32, return_sequences=True),\n",
        "    #tf.keras.layers.Flatten(),\n",
        "    tf.keras.layers.GlobalAveragePooling1D(),\n",
        "    #tf.keras.layers.Dropout(0.5),\n",
        "    # tf.keras.layers.Dense(128, activation='relu'),\n",
        "    tf.keras.layers.Dense(4, activation='softmax')\n",
        "\n",
        "])"
      ]
    },
    {
      "cell_type": "code",
      "execution_count": 32,
      "metadata": {
        "colab": {
          "base_uri": "https://localhost:8080/"
        },
        "id": "PjuCb94wDmtH",
        "outputId": "c7cd55ad-9da2-42b2-d714-c1d6c9318ee8"
      },
      "outputs": [
        {
          "name": "stdout",
          "output_type": "stream",
          "text": [
            "Model: \"sequential\"\n",
            "_________________________________________________________________\n",
            " Layer (type)                Output Shape              Param #   \n",
            "=================================================================\n",
            " embedding (Embedding)       (None, 150, 16)           160000    \n",
            "                                                                 \n",
            " global_average_pooling1d (G  (None, 16)               0         \n",
            " lobalAveragePooling1D)                                          \n",
            "                                                                 \n",
            " dense (Dense)               (None, 4)                 68        \n",
            "                                                                 \n",
            "=================================================================\n",
            "Total params: 160,068\n",
            "Trainable params: 160,068\n",
            "Non-trainable params: 0\n",
            "_________________________________________________________________\n"
          ]
        }
      ],
      "source": [
        "model.summary()"
      ]
    },
    {
      "cell_type": "code",
      "execution_count": 33,
      "metadata": {
        "id": "3mQG2n5TBPtL"
      },
      "outputs": [],
      "source": [
        "model.compile(loss='categorical_crossentropy',\n",
        "              optimizer='adam',\n",
        "              metrics='accuracy')"
      ]
    },
    {
      "cell_type": "code",
      "execution_count": 34,
      "metadata": {
        "colab": {
          "base_uri": "https://localhost:8080/"
        },
        "id": "fWRw6BGfB_GZ",
        "outputId": "0fd078c2-7389-4879-b75a-bec534bfebc9"
      },
      "outputs": [
        {
          "name": "stdout",
          "output_type": "stream",
          "text": [
            "Epoch 1/50\n",
            "462/462 [==============================] - 38s 75ms/step - loss: 1.3578 - accuracy: 0.3168 - val_loss: 1.3444 - val_accuracy: 0.3431\n",
            "Epoch 2/50\n",
            "462/462 [==============================] - 9s 19ms/step - loss: 1.3171 - accuracy: 0.4346 - val_loss: 1.2922 - val_accuracy: 0.4834\n",
            "Epoch 3/50\n",
            "462/462 [==============================] - 5s 10ms/step - loss: 1.2500 - accuracy: 0.5134 - val_loss: 1.2252 - val_accuracy: 0.5192\n",
            "Epoch 4/50\n",
            "462/462 [==============================] - 5s 10ms/step - loss: 1.1779 - accuracy: 0.5499 - val_loss: 1.1610 - val_accuracy: 0.5487\n",
            "Epoch 5/50\n",
            "462/462 [==============================] - 3s 7ms/step - loss: 1.1115 - accuracy: 0.5734 - val_loss: 1.1062 - val_accuracy: 0.5700\n",
            "Epoch 6/50\n",
            "462/462 [==============================] - 3s 6ms/step - loss: 1.0549 - accuracy: 0.5958 - val_loss: 1.0587 - val_accuracy: 0.5925\n",
            "Epoch 7/50\n",
            "462/462 [==============================] - 3s 7ms/step - loss: 1.0055 - accuracy: 0.6185 - val_loss: 1.0185 - val_accuracy: 0.6034\n",
            "Epoch 8/50\n",
            "462/462 [==============================] - 4s 9ms/step - loss: 0.9631 - accuracy: 0.6371 - val_loss: 0.9836 - val_accuracy: 0.6192\n",
            "Epoch 9/50\n",
            "462/462 [==============================] - 3s 7ms/step - loss: 0.9243 - accuracy: 0.6531 - val_loss: 0.9523 - val_accuracy: 0.6313\n",
            "Epoch 10/50\n",
            "462/462 [==============================] - 3s 7ms/step - loss: 0.8892 - accuracy: 0.6675 - val_loss: 0.9286 - val_accuracy: 0.6392\n",
            "Epoch 11/50\n",
            "462/462 [==============================] - 4s 7ms/step - loss: 0.8562 - accuracy: 0.6814 - val_loss: 0.8981 - val_accuracy: 0.6534\n",
            "Epoch 12/50\n",
            "462/462 [==============================] - 3s 7ms/step - loss: 0.8270 - accuracy: 0.6940 - val_loss: 0.8761 - val_accuracy: 0.6663\n",
            "Epoch 13/50\n",
            "462/462 [==============================] - 2s 5ms/step - loss: 0.7983 - accuracy: 0.7046 - val_loss: 0.8530 - val_accuracy: 0.6730\n",
            "Epoch 14/50\n",
            "462/462 [==============================] - 3s 6ms/step - loss: 0.7737 - accuracy: 0.7146 - val_loss: 0.8323 - val_accuracy: 0.6813\n",
            "Epoch 15/50\n",
            "462/462 [==============================] - 2s 5ms/step - loss: 0.7486 - accuracy: 0.7257 - val_loss: 0.8149 - val_accuracy: 0.6842\n",
            "Epoch 16/50\n",
            "462/462 [==============================] - 3s 7ms/step - loss: 0.7265 - accuracy: 0.7350 - val_loss: 0.7962 - val_accuracy: 0.6950\n",
            "Epoch 17/50\n",
            "462/462 [==============================] - 2s 5ms/step - loss: 0.7038 - accuracy: 0.7452 - val_loss: 0.7801 - val_accuracy: 0.7016\n",
            "Epoch 18/50\n",
            "462/462 [==============================] - 2s 5ms/step - loss: 0.6852 - accuracy: 0.7520 - val_loss: 0.7670 - val_accuracy: 0.7007\n",
            "Epoch 19/50\n",
            "462/462 [==============================] - 3s 6ms/step - loss: 0.6660 - accuracy: 0.7587 - val_loss: 0.7509 - val_accuracy: 0.7142\n",
            "Epoch 20/50\n",
            "462/462 [==============================] - 2s 5ms/step - loss: 0.6477 - accuracy: 0.7681 - val_loss: 0.7366 - val_accuracy: 0.7191\n",
            "Epoch 21/50\n",
            "462/462 [==============================] - 3s 6ms/step - loss: 0.6313 - accuracy: 0.7730 - val_loss: 0.7254 - val_accuracy: 0.7220\n",
            "Epoch 22/50\n",
            "462/462 [==============================] - 3s 6ms/step - loss: 0.6172 - accuracy: 0.7782 - val_loss: 0.7143 - val_accuracy: 0.7251\n",
            "Epoch 23/50\n",
            "462/462 [==============================] - 2s 5ms/step - loss: 0.6002 - accuracy: 0.7853 - val_loss: 0.7019 - val_accuracy: 0.7326\n",
            "Epoch 24/50\n",
            "462/462 [==============================] - 2s 5ms/step - loss: 0.5879 - accuracy: 0.7892 - val_loss: 0.6914 - val_accuracy: 0.7373\n",
            "Epoch 25/50\n",
            "462/462 [==============================] - 3s 6ms/step - loss: 0.5739 - accuracy: 0.7938 - val_loss: 0.6841 - val_accuracy: 0.7419\n",
            "Epoch 26/50\n",
            "462/462 [==============================] - 3s 6ms/step - loss: 0.5624 - accuracy: 0.7992 - val_loss: 0.6733 - val_accuracy: 0.7443\n",
            "Epoch 27/50\n",
            "462/462 [==============================] - 2s 5ms/step - loss: 0.5494 - accuracy: 0.8043 - val_loss: 0.6644 - val_accuracy: 0.7481\n",
            "Epoch 28/50\n",
            "462/462 [==============================] - 2s 5ms/step - loss: 0.5372 - accuracy: 0.8099 - val_loss: 0.6556 - val_accuracy: 0.7529\n",
            "Epoch 29/50\n",
            "462/462 [==============================] - 2s 5ms/step - loss: 0.5293 - accuracy: 0.8111 - val_loss: 0.6488 - val_accuracy: 0.7543\n",
            "Epoch 30/50\n",
            "462/462 [==============================] - 3s 6ms/step - loss: 0.5172 - accuracy: 0.8153 - val_loss: 0.6417 - val_accuracy: 0.7563\n",
            "Epoch 31/50\n",
            "462/462 [==============================] - 3s 5ms/step - loss: 0.5079 - accuracy: 0.8190 - val_loss: 0.6375 - val_accuracy: 0.7603\n",
            "Epoch 32/50\n",
            "462/462 [==============================] - 2s 5ms/step - loss: 0.5004 - accuracy: 0.8212 - val_loss: 0.6284 - val_accuracy: 0.7628\n",
            "Epoch 33/50\n",
            "462/462 [==============================] - 2s 4ms/step - loss: 0.4888 - accuracy: 0.8260 - val_loss: 0.6220 - val_accuracy: 0.7651\n",
            "Epoch 34/50\n",
            "462/462 [==============================] - 2s 5ms/step - loss: 0.4818 - accuracy: 0.8289 - val_loss: 0.6180 - val_accuracy: 0.7662\n",
            "Epoch 35/50\n",
            "462/462 [==============================] - 2s 5ms/step - loss: 0.4753 - accuracy: 0.8303 - val_loss: 0.6118 - val_accuracy: 0.7711\n",
            "Epoch 36/50\n",
            "462/462 [==============================] - 3s 7ms/step - loss: 0.4654 - accuracy: 0.8349 - val_loss: 0.6085 - val_accuracy: 0.7697\n",
            "Epoch 37/50\n",
            "462/462 [==============================] - 3s 5ms/step - loss: 0.4581 - accuracy: 0.8372 - val_loss: 0.6020 - val_accuracy: 0.7717\n",
            "Epoch 38/50\n",
            "462/462 [==============================] - 2s 5ms/step - loss: 0.4527 - accuracy: 0.8388 - val_loss: 0.6022 - val_accuracy: 0.7745\n",
            "Epoch 39/50\n",
            "462/462 [==============================] - 2s 5ms/step - loss: 0.4458 - accuracy: 0.8414 - val_loss: 0.5945 - val_accuracy: 0.7763\n",
            "Epoch 40/50\n",
            "462/462 [==============================] - 3s 7ms/step - loss: 0.4409 - accuracy: 0.8424 - val_loss: 0.5893 - val_accuracy: 0.7788\n",
            "Epoch 41/50\n",
            "462/462 [==============================] - 3s 6ms/step - loss: 0.4324 - accuracy: 0.8460 - val_loss: 0.5867 - val_accuracy: 0.7793\n",
            "Epoch 42/50\n",
            "462/462 [==============================] - 2s 5ms/step - loss: 0.4274 - accuracy: 0.8478 - val_loss: 0.5833 - val_accuracy: 0.7805\n",
            "Epoch 43/50\n",
            "462/462 [==============================] - 2s 5ms/step - loss: 0.4209 - accuracy: 0.8495 - val_loss: 0.5796 - val_accuracy: 0.7825\n",
            "Epoch 44/50\n",
            "462/462 [==============================] - 2s 5ms/step - loss: 0.4176 - accuracy: 0.8514 - val_loss: 0.5773 - val_accuracy: 0.7838\n",
            "Epoch 45/50\n",
            "462/462 [==============================] - 3s 6ms/step - loss: 0.4116 - accuracy: 0.8541 - val_loss: 0.5757 - val_accuracy: 0.7852\n",
            "Epoch 46/50\n",
            "462/462 [==============================] - 3s 6ms/step - loss: 0.4060 - accuracy: 0.8555 - val_loss: 0.5724 - val_accuracy: 0.7846\n",
            "Epoch 47/50\n",
            "462/462 [==============================] - 2s 5ms/step - loss: 0.4005 - accuracy: 0.8578 - val_loss: 0.5728 - val_accuracy: 0.7838\n",
            "Epoch 48/50\n",
            "462/462 [==============================] - 2s 5ms/step - loss: 0.3979 - accuracy: 0.8581 - val_loss: 0.5676 - val_accuracy: 0.7899\n",
            "Epoch 49/50\n",
            "462/462 [==============================] - 2s 5ms/step - loss: 0.3939 - accuracy: 0.8590 - val_loss: 0.5670 - val_accuracy: 0.7883\n",
            "Epoch 50/50\n",
            "462/462 [==============================] - 3s 6ms/step - loss: 0.3872 - accuracy: 0.8625 - val_loss: 0.5676 - val_accuracy: 0.7880\n"
          ]
        }
      ],
      "source": [
        "history = model.fit(train_pad, train_label,\n",
        "                    batch_size = 128,\n",
        "                    steps_per_epoch = len(train_tweet) // 128,\n",
        "                    epochs = 50,\n",
        "                    validation_data = (test_pad, test_label),\n",
        "                    validation_steps = len(test_tweet) // 128,\n",
        "                    verbose = 1,\n",
        "                    callbacks=[callbacks])"
      ]
    },
    {
      "cell_type": "code",
      "execution_count": 37,
      "metadata": {
        "colab": {
          "base_uri": "https://localhost:8080/",
          "height": 336
        },
        "id": "W0d15Bo7moyB",
        "outputId": "fb36269e-8f14-4482-c998-2fc72c83484d"
      },
      "outputs": [
        {
          "data": {
            "image/png": "[encoded data removed]",
            "text/plain": [
              "<Figure size 1080x360 with 2 Axes>"
            ]
          },
          "metadata": {
            "needs_background": "light"
          },
          "output_type": "display_data"
        }
      ],
      "source": [
        "# Plot the training and validation accuracies for each epoch\n",
        "\n",
        "acc = history.history['accuracy']\n",
        "val_acc = history.history['val_accuracy']\n",
        "loss = history.history['loss']\n",
        "val_loss = history.history['val_loss']\n",
        "\n",
        "epochs = range(len(acc))\n",
        "\n",
        "fig = plt.figure(figsize = (15,5))\n",
        "ax1 = fig.add_subplot(1,2,1)\n",
        "ax2 = fig.add_subplot(1,2,2)\n",
        "\n",
        "\n",
        "ax1.plot(epochs, acc, 'r', label='Training accuracy')\n",
        "ax1.plot(epochs, val_acc, 'b', label='Validation accuracy')\n",
        "ax1.set_title('Training and validation accuracy')\n",
        "ax1.legend(loc=0)\n",
        "\n",
        "\n",
        "ax2.plot(epochs, loss, 'r', label='Training loss')\n",
        "ax2.plot(epochs, val_loss, 'b', label='Validation loss')\n",
        "ax2.set_title('Training and validation loss')\n",
        "ax2.legend(loc=0)\n",
        "\n",
        "\n",
        "plt.show()"
      ]
    },
    {
      "cell_type": "code",
      "execution_count": 38,
      "metadata": {
        "id": "wbxi1GFpYMqC"
      },
      "outputs": [],
      "source": [
        "model.save('sentiment_model.h5')"
      ]
    },
    {
      "cell_type": "code",
      "execution_count": null,
      "metadata": {},
      "outputs": [],
      "source": [
        "import pickle\n",
        "\n",
        "# saving\n",
        "with open('tokenizer.pickle', 'wb') as handle:\n",
        "    pickle.dump(tokenizer, handle, protocol=pickle.HIGHEST_PROTOCOL)"
      ]
    }
  ],
  "metadata": {
    "accelerator": "GPU",
    "colab": {
      "provenance": []
    },
    "gpuClass": "standard",
    "kernelspec": {
      "display_name": "Python 3",
      "language": "python",
      "name": "python3"
    },
    "language_info": {
      "codemirror_mode": {
        "name": "ipython",
        "version": 3
      },
      "file_extension": ".py",
      "mimetype": "text/x-python",
      "name": "python",
      "nbconvert_exporter": "python",
      "pygments_lexer": "ipython3",
      "version": "3.8.0"
    },
    "vscode": {
      "interpreter": {
        "hash": "cb575880da7fb1b63f39f76a29ec1124782f92e8ba6b24ca6b4135e5a600188f"
      }
    }
  },
  "nbformat": 4,
  "nbformat_minor": 0
}
